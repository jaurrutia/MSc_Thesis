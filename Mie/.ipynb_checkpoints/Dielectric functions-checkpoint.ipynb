{
 "cells": [
  {
   "cell_type": "code",
   "execution_count": 40,
   "id": "ac4a850e-eade-4327-9442-49bb6bc1a7b4",
   "metadata": {},
   "outputs": [],
   "source": [
    "Needs[\"MaTeX`\"]\n",
    "\n",
    "fs = 9;\n",
    "\n",
    "texStyle := {FontFamily -> \"Latin Modern Roman\", FontSize -> fs, Black}; \n",
    "graphsOpts := {Mesh -> Full, BaseStyle -> texStyle, Frame -> True, \n",
    "                FrameStyle -> Black, ImageSize -> 215, PlotStyle -> ColorData[3]}\n",
    "\n",
    "SetOptions[ListLinePlot, graphsOpts];\n",
    "nano = 1*^9;"
   ]
  },
  {
   "cell_type": "code",
   "execution_count": 24,
   "id": "5475616e-c417-41cc-a02f-98e9c7a7a825",
   "metadata": {},
   "outputs": [],
   "source": [
    "h = 4.135668*^-15 (*eV s*); c = 3*^17 (*nm s^-1*); hc = h*c;\n",
    "\n",
    "nAueV = #[[3;;]] &@ Import[\"gold.dat\"];\n",
    "\n",
    "nAuFunc =   Interpolation[nAueV /. {wavelength_, realInd_, imInd_} -> { hc /wavelength, realInd + I*imInd}];\n",
    "epsAuFunc =   Interpolation[ nAueV /. {wavelength_, realInd_, imInd_} -> { hc /wavelength, (realInd + I*imInd)^2}];\n",
    "\n",
    "\n",
    "dummy3 = Interpolation[ nAueV /.{wavelength_, realInd_, imInd_} -> {hc/wavelength, realInd^2 - imInd^2}, Method -> \"Spline\"];\n",
    "dummy4 = Interpolation[ nAueV /.{wavelength_, realInd_, imInd_} -> {hc/wavelength, 2 * realInd * imInd}, Method -> \"Spline\"];\n",
    "\n",
    "epsAuFuncSpline[x_] := dummy3[x] + I * dummy4[x]\n",
    "\n",
    "nAuSize[wlen_, radius_] := Sqrt[epsAuFuncSpline[wlen]\n",
    "                     - (1 - gamma * wlen^2 /(wlenP^2 * (gamma + I*wlen)))\n",
    "                     + (1 - gamma * gammaSize * wlen^2 / (wlenP^2 * (gamma*gammaSize + I *(gamma + gammaSize)*wlen)))] /.{ wlenP ->  142.609,\n",
    "                                                                                                                          gamma -> 14966.2, \n",
    "                                                                                                                      gammaSize -> (radius*2*Pi*c)/(1.4*^15)}"
   ]
  },
  {
   "cell_type": "code",
   "execution_count": 99,
   "id": "aa156ce1-dc10-494a-95bc-1c6bc3708fbf",
   "metadata": {},
   "outputs": [
    {
     "data": {
      "text/html": [
       "<div><pre style=\"&#102;&#111;&#110;&#116;&#45;&#102;&#97;&#109;&#105;&#108;&#121;&#58;&#32;&#34;&#67;&#111;&#117;&#114;&#105;&#101;&#114;&#32;&#78;&#101;&#119;&#34;&#44;&#67;&#111;&#117;&#114;&#105;&#101;&#114;&#44;&#109;&#111;&#110;&#111;&#115;&#112;&#97;&#99;&#101;&#59;\">&#65;&#117;&#95;&#110;&#95;&#51;&#110;&#109;&#46;&#99;&#115;&#118;</pre></div>"
      ],
      "text/plain": [
       "Au_n_3nm.csv"
      ]
     },
     "execution_count": 102,
     "metadata": {
      "text/html": [],
      "text/plain": []
     },
     "output_type": "execute_result"
    }
   ],
   "source": [
    "lda = Range[300,900,5];\n",
    "data = Transpose @ ReIm @ nAuSize[lda, 3];\n",
    "data = Transpose[ Prepend[data,lda]];\n",
    "\n",
    "Export[\"Au_n_3nm.csv\", data]"
   ]
  }
 ],
 "metadata": {
  "kernelspec": {
   "display_name": "Wolfram Language 13",
   "language": "Wolfram Language",
   "name": "wolframlanguage13"
  },
  "language_info": {
   "codemirror_mode": "mathematica",
   "file_extension": ".m",
   "mimetype": "application/vnd.wolfram.m",
   "name": "Wolfram Language",
   "pygments_lexer": "mathematica",
   "version": "12.0"
  }
 },
 "nbformat": 4,
 "nbformat_minor": 5
}
